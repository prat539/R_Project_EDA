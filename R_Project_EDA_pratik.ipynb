{
  "nbformat": 4,
  "nbformat_minor": 0,
  "metadata": {
    "colab": {
      "provenance": [],
      "include_colab_link": true
    },
    "kernelspec": {
      "name": "ir",
      "display_name": "R"
    },
    "language_info": {
      "name": "R"
    }
  },
  "cells": [
    {
      "cell_type": "markdown",
      "metadata": {
        "id": "view-in-github",
        "colab_type": "text"
      },
      "source": [
        "<a href=\"https://colab.research.google.com/github/prat539/R_Project_EDA/blob/main/R_Project_EDA_pratik.ipynb\" target=\"_parent\"><img src=\"https://colab.research.google.com/assets/colab-badge.svg\" alt=\"Open In Colab\"/></a>"
      ]
    },
    {
      "cell_type": "markdown",
      "source": [
        "install pre-requisite packages"
      ],
      "metadata": {
        "id": "k9RFLk2dS-2f"
      }
    },
    {
      "cell_type": "code",
      "source": [
        "install.packages(\"stats\")\n",
        "install.packages(\"dplyr\")"
      ],
      "metadata": {
        "colab": {
          "base_uri": "https://localhost:8080/"
        },
        "id": "E4DS_ccISzBO",
        "outputId": "2dd6a131-aa75-47b3-dd70-8f93f16fb16d"
      },
      "execution_count": null,
      "outputs": [
        {
          "output_type": "stream",
          "name": "stderr",
          "text": [
            "Installing package into ‘/usr/local/lib/R/site-library’\n",
            "(as ‘lib’ is unspecified)\n",
            "\n",
            "Warning message:\n",
            "“package ‘stats’ is a base package, and should not be updated”\n",
            "Installing package into ‘/usr/local/lib/R/site-library’\n",
            "(as ‘lib’ is unspecified)\n",
            "\n"
          ]
        }
      ]
    },
    {
      "cell_type": "markdown",
      "source": [
        "Load required libraries"
      ],
      "metadata": {
        "id": "NMID2PogTh42"
      }
    },
    {
      "cell_type": "code",
      "source": [
        "library(stats)\n",
        "library(dplyr)"
      ],
      "metadata": {
        "colab": {
          "base_uri": "https://localhost:8080/"
        },
        "id": "4F6p6LuPTsG_",
        "outputId": "364066a6-28bd-4625-8c6d-3789b27cc729"
      },
      "execution_count": null,
      "outputs": [
        {
          "output_type": "stream",
          "name": "stderr",
          "text": [
            "\n",
            "Attaching package: ‘dplyr’\n",
            "\n",
            "\n",
            "The following objects are masked from ‘package:stats’:\n",
            "\n",
            "    filter, lag\n",
            "\n",
            "\n",
            "The following objects are masked from ‘package:base’:\n",
            "\n",
            "    intersect, setdiff, setequal, union\n",
            "\n",
            "\n"
          ]
        }
      ]
    },
    {
      "cell_type": "markdown",
      "source": [
        "loading data onto mydata object"
      ],
      "metadata": {
        "id": "InDkd1T8U-d7"
      }
    },
    {
      "cell_type": "code",
      "source": [
        "mydata = airquality"
      ],
      "metadata": {
        "id": "hSyG2Xj6VFcn"
      },
      "execution_count": null,
      "outputs": []
    },
    {
      "cell_type": "code",
      "source": [
        "str(mydata)"
      ],
      "metadata": {
        "colab": {
          "base_uri": "https://localhost:8080/"
        },
        "id": "MR_HsDy2VvVw",
        "outputId": "4b5513c3-310d-47e7-c091-33c36ec1db1c"
      },
      "execution_count": null,
      "outputs": [
        {
          "output_type": "stream",
          "name": "stdout",
          "text": [
            "'data.frame':\t153 obs. of  6 variables:\n",
            " $ Ozone  : int  41 36 12 18 NA 28 23 19 8 NA ...\n",
            " $ Solar.R: int  190 118 149 313 NA NA 299 99 19 194 ...\n",
            " $ Wind   : num  7.4 8 12.6 11.5 14.3 14.9 8.6 13.8 20.1 8.6 ...\n",
            " $ Temp   : int  67 72 74 62 56 66 65 59 61 69 ...\n",
            " $ Month  : int  5 5 5 5 5 5 5 5 5 5 ...\n",
            " $ Day    : int  1 2 3 4 5 6 7 8 9 10 ...\n"
          ]
        }
      ]
    },
    {
      "cell_type": "markdown",
      "source": [
        "1. Data summarization\n",
        "\n",
        "* Central Tendencies"
      ],
      "metadata": {
        "id": "P3lhej9IZHj2"
      }
    },
    {
      "cell_type": "code",
      "source": [
        "WI = mydata$Wind"
      ],
      "metadata": {
        "id": "G6AertzLZNkk"
      },
      "execution_count": null,
      "outputs": []
    },
    {
      "cell_type": "code",
      "source": [
        "Temp = mydata$Temp"
      ],
      "metadata": {
        "id": "soroKIunZqEZ"
      },
      "execution_count": null,
      "outputs": []
    },
    {
      "cell_type": "code",
      "source": [
        "OZ = mydata$Ozone"
      ],
      "metadata": {
        "id": "4HIS8xpzaDHv"
      },
      "execution_count": null,
      "outputs": []
    },
    {
      "cell_type": "markdown",
      "source": [
        "1. Calculate Mean"
      ],
      "metadata": {
        "id": "7nk_hgvHaXlG"
      }
    },
    {
      "cell_type": "code",
      "source": [
        "mean(WI)"
      ],
      "metadata": {
        "colab": {
          "base_uri": "https://localhost:8080/",
          "height": 34
        },
        "id": "mNKmKIOqacTz",
        "outputId": "e33af224-874e-4ed2-8573-74ecb6cc7749"
      },
      "execution_count": null,
      "outputs": [
        {
          "output_type": "display_data",
          "data": {
            "text/html": [
              "9.95751633986928"
            ],
            "text/markdown": "9.95751633986928",
            "text/latex": "9.95751633986928",
            "text/plain": [
              "[1] 9.957516"
            ]
          },
          "metadata": {}
        }
      ]
    },
    {
      "cell_type": "code",
      "source": [
        "mean(Temp)"
      ],
      "metadata": {
        "colab": {
          "base_uri": "https://localhost:8080/",
          "height": 34
        },
        "id": "ifmi3DCuamZC",
        "outputId": "b3146e7b-ba5f-4c6d-eb92-b1d6b94cdee7"
      },
      "execution_count": null,
      "outputs": [
        {
          "output_type": "display_data",
          "data": {
            "text/html": [
              "77.8823529411765"
            ],
            "text/markdown": "77.8823529411765",
            "text/latex": "77.8823529411765",
            "text/plain": [
              "[1] 77.88235"
            ]
          },
          "metadata": {}
        }
      ]
    },
    {
      "cell_type": "code",
      "source": [
        "mean(OZ, na.rm = TRUE)"
      ],
      "metadata": {
        "colab": {
          "base_uri": "https://localhost:8080/",
          "height": 34
        },
        "id": "BDnXZvJHavpd",
        "outputId": "c7c62183-6353-4a2b-a28f-65fbf2480b5e"
      },
      "execution_count": null,
      "outputs": [
        {
          "output_type": "display_data",
          "data": {
            "text/html": [
              "42.1293103448276"
            ],
            "text/markdown": "42.1293103448276",
            "text/latex": "42.1293103448276",
            "text/plain": [
              "[1] 42.12931"
            ]
          },
          "metadata": {}
        }
      ]
    },
    {
      "cell_type": "markdown",
      "source": [
        "2. Calculate Median"
      ],
      "metadata": {
        "id": "noUQcjNlbCw2"
      }
    },
    {
      "cell_type": "code",
      "source": [
        "median(WI)"
      ],
      "metadata": {
        "colab": {
          "base_uri": "https://localhost:8080/",
          "height": 34
        },
        "id": "etkbinCebG1K",
        "outputId": "63481809-ba3d-4943-dc20-d32b05661d30"
      },
      "execution_count": null,
      "outputs": [
        {
          "output_type": "display_data",
          "data": {
            "text/html": [
              "9.7"
            ],
            "text/markdown": "9.7",
            "text/latex": "9.7",
            "text/plain": [
              "[1] 9.7"
            ]
          },
          "metadata": {}
        }
      ]
    },
    {
      "cell_type": "code",
      "source": [
        "median(Temp)"
      ],
      "metadata": {
        "colab": {
          "base_uri": "https://localhost:8080/",
          "height": 34
        },
        "id": "X_zn_cQQbQXn",
        "outputId": "46d8a246-59d3-4f66-c3b2-99e7c741b826"
      },
      "execution_count": null,
      "outputs": [
        {
          "output_type": "display_data",
          "data": {
            "text/html": [
              "79"
            ],
            "text/markdown": "79",
            "text/latex": "79",
            "text/plain": [
              "[1] 79"
            ]
          },
          "metadata": {}
        }
      ]
    },
    {
      "cell_type": "code",
      "source": [
        "median(OZ, na.rm = TRUE)"
      ],
      "metadata": {
        "colab": {
          "base_uri": "https://localhost:8080/",
          "height": 34
        },
        "id": "oU0VOsQVbXYw",
        "outputId": "11952929-8e45-4f44-9429-ec1e63973ae7"
      },
      "execution_count": null,
      "outputs": [
        {
          "output_type": "display_data",
          "data": {
            "text/html": [
              "31.5"
            ],
            "text/markdown": "31.5",
            "text/latex": "31.5",
            "text/plain": [
              "[1] 31.5"
            ]
          },
          "metadata": {}
        }
      ]
    },
    {
      "cell_type": "markdown",
      "source": [
        "3. Calculate Mode"
      ],
      "metadata": {
        "id": "OvoOYABLb1B2"
      }
    },
    {
      "cell_type": "code",
      "source": [
        "# Create mode function\n",
        "mode <- function(x) {\n",
        "  unique_x <- unique(x)\n",
        "  tabulate_x <- tabulate(match(x, unique_x))\n",
        "  unique_x[tabulate_x == max(tabulate_x)]\n",
        "}"
      ],
      "metadata": {
        "id": "rHbmTCMMb4R2"
      },
      "execution_count": null,
      "outputs": []
    },
    {
      "cell_type": "code",
      "source": [
        "mode(WI)"
      ],
      "metadata": {
        "colab": {
          "base_uri": "https://localhost:8080/",
          "height": 34
        },
        "id": "8pk3rmirfxvB",
        "outputId": "dcc4dc51-bd20-4c8b-b329-6ea291184416"
      },
      "execution_count": null,
      "outputs": [
        {
          "output_type": "display_data",
          "data": {
            "text/html": [
              "11.5"
            ],
            "text/markdown": "11.5",
            "text/latex": "11.5",
            "text/plain": [
              "[1] 11.5"
            ]
          },
          "metadata": {}
        }
      ]
    },
    {
      "cell_type": "code",
      "source": [
        "mode(Temp)"
      ],
      "metadata": {
        "colab": {
          "base_uri": "https://localhost:8080/",
          "height": 34
        },
        "id": "f5f23JUIgyZe",
        "outputId": "77389ed4-ea44-465d-b8aa-588d78969a45"
      },
      "execution_count": null,
      "outputs": [
        {
          "output_type": "display_data",
          "data": {
            "text/html": [
              "81"
            ],
            "text/markdown": "81",
            "text/latex": "81",
            "text/plain": [
              "[1] 81"
            ]
          },
          "metadata": {}
        }
      ]
    },
    {
      "cell_type": "code",
      "source": [
        "mode(OZ)"
      ],
      "metadata": {
        "colab": {
          "base_uri": "https://localhost:8080/",
          "height": 34
        },
        "id": "bD31nL7-g2iE",
        "outputId": "dfd7fff0-c4f4-4a0f-8b0c-4fcc29c0154e"
      },
      "execution_count": null,
      "outputs": [
        {
          "output_type": "display_data",
          "data": {
            "text/html": [
              "&lt;NA&gt;"
            ],
            "text/markdown": "&lt;NA&gt;",
            "text/latex": "<NA>",
            "text/plain": [
              "[1] NA"
            ]
          },
          "metadata": {}
        }
      ]
    },
    {
      "cell_type": "markdown",
      "source": [
        "* Measure of Variability\n",
        "\n",
        "1. Calculate Standard deviation"
      ],
      "metadata": {
        "id": "h93io746hvrs"
      }
    },
    {
      "cell_type": "code",
      "source": [
        "sd(WI)"
      ],
      "metadata": {
        "colab": {
          "base_uri": "https://localhost:8080/",
          "height": 34
        },
        "id": "DXWlr3ptiO1F",
        "outputId": "ba5e7317-b390-48ec-f3dd-1f21a1268a24"
      },
      "execution_count": null,
      "outputs": [
        {
          "output_type": "display_data",
          "data": {
            "text/html": [
              "3.5230013522126"
            ],
            "text/markdown": "3.5230013522126",
            "text/latex": "3.5230013522126",
            "text/plain": [
              "[1] 3.523001"
            ]
          },
          "metadata": {}
        }
      ]
    },
    {
      "cell_type": "code",
      "source": [
        "sd(Temp)"
      ],
      "metadata": {
        "colab": {
          "base_uri": "https://localhost:8080/",
          "height": 34
        },
        "id": "FvViP5ICmYcY",
        "outputId": "d5742c02-ed41-4817-9ace-6c4a71010068"
      },
      "execution_count": null,
      "outputs": [
        {
          "output_type": "display_data",
          "data": {
            "text/html": [
              "9.46526974097146"
            ],
            "text/markdown": "9.46526974097146",
            "text/latex": "9.46526974097146",
            "text/plain": [
              "[1] 9.46527"
            ]
          },
          "metadata": {}
        }
      ]
    },
    {
      "cell_type": "code",
      "source": [
        "sd(OZ, na.rm = TRUE)"
      ],
      "metadata": {
        "colab": {
          "base_uri": "https://localhost:8080/",
          "height": 34
        },
        "id": "AUMD7VdBmdBc",
        "outputId": "d5579c78-5dfd-4360-ca18-385c92cd0919"
      },
      "execution_count": null,
      "outputs": [
        {
          "output_type": "display_data",
          "data": {
            "text/html": [
              "32.987884514434"
            ],
            "text/markdown": "32.987884514434",
            "text/latex": "32.987884514434",
            "text/plain": [
              "[1] 32.98788"
            ]
          },
          "metadata": {}
        }
      ]
    },
    {
      "cell_type": "markdown",
      "source": [
        "2. Calculate Variance\n",
        "\n",
        "\n"
      ],
      "metadata": {
        "id": "Hz0FOPmLmurL"
      }
    },
    {
      "cell_type": "code",
      "source": [
        "var(WI)"
      ],
      "metadata": {
        "colab": {
          "base_uri": "https://localhost:8080/",
          "height": 34
        },
        "id": "xkE2A1RNmznT",
        "outputId": "5651ca31-dc9d-4284-ab57-5cf45ae44697"
      },
      "execution_count": null,
      "outputs": [
        {
          "output_type": "display_data",
          "data": {
            "text/html": [
              "12.4115385276918"
            ],
            "text/markdown": "12.4115385276918",
            "text/latex": "12.4115385276918",
            "text/plain": [
              "[1] 12.41154"
            ]
          },
          "metadata": {}
        }
      ]
    },
    {
      "cell_type": "code",
      "source": [
        "var(Temp)"
      ],
      "metadata": {
        "colab": {
          "base_uri": "https://localhost:8080/",
          "height": 34
        },
        "id": "TQBzDfrfm73l",
        "outputId": "e8c9ae34-6fb9-41b9-b396-1db9629243b1"
      },
      "execution_count": null,
      "outputs": [
        {
          "output_type": "display_data",
          "data": {
            "text/html": [
              "89.5913312693499"
            ],
            "text/markdown": "89.5913312693499",
            "text/latex": "89.5913312693499",
            "text/plain": [
              "[1] 89.59133"
            ]
          },
          "metadata": {}
        }
      ]
    },
    {
      "cell_type": "code",
      "source": [
        "var(OZ, na.rm = TRUE)"
      ],
      "metadata": {
        "colab": {
          "base_uri": "https://localhost:8080/",
          "height": 34
        },
        "id": "IlETjSTUnDmz",
        "outputId": "09589523-b902-464f-da62-91f86da98388"
      },
      "execution_count": null,
      "outputs": [
        {
          "output_type": "display_data",
          "data": {
            "text/html": [
              "1088.20052473763"
            ],
            "text/markdown": "1088.20052473763",
            "text/latex": "1088.20052473763",
            "text/plain": [
              "[1] 1088.201"
            ]
          },
          "metadata": {}
        }
      ]
    },
    {
      "cell_type": "markdown",
      "source": [
        "3. Calculate IQR"
      ],
      "metadata": {
        "id": "OiFOWk2qnVva"
      }
    },
    {
      "cell_type": "code",
      "source": [
        "quantile(WI)"
      ],
      "metadata": {
        "colab": {
          "base_uri": "https://localhost:8080/",
          "height": 34
        },
        "id": "mBmxOwycnasi",
        "outputId": "dcab84a6-49a0-4573-a587-1d2bff77378b"
      },
      "execution_count": null,
      "outputs": [
        {
          "output_type": "display_data",
          "data": {
            "text/html": [
              "<style>\n",
              ".dl-inline {width: auto; margin:0; padding: 0}\n",
              ".dl-inline>dt, .dl-inline>dd {float: none; width: auto; display: inline-block}\n",
              ".dl-inline>dt::after {content: \":\\0020\"; padding-right: .5ex}\n",
              ".dl-inline>dt:not(:first-of-type) {padding-left: .5ex}\n",
              "</style><dl class=dl-inline><dt>0%</dt><dd>1.7</dd><dt>25%</dt><dd>7.4</dd><dt>50%</dt><dd>9.7</dd><dt>75%</dt><dd>11.5</dd><dt>100%</dt><dd>20.7</dd></dl>\n"
            ],
            "text/markdown": "0%\n:   1.725%\n:   7.450%\n:   9.775%\n:   11.5100%\n:   20.7\n\n",
            "text/latex": "\\begin{description*}\n\\item[0\\textbackslash{}\\%] 1.7\n\\item[25\\textbackslash{}\\%] 7.4\n\\item[50\\textbackslash{}\\%] 9.7\n\\item[75\\textbackslash{}\\%] 11.5\n\\item[100\\textbackslash{}\\%] 20.7\n\\end{description*}\n",
            "text/plain": [
              "  0%  25%  50%  75% 100% \n",
              " 1.7  7.4  9.7 11.5 20.7 "
            ]
          },
          "metadata": {}
        }
      ]
    },
    {
      "cell_type": "code",
      "source": [
        "quantile(Temp)"
      ],
      "metadata": {
        "colab": {
          "base_uri": "https://localhost:8080/",
          "height": 34
        },
        "id": "mZfkd6FNpIXa",
        "outputId": "bbc56cec-4947-4b53-813e-6a177632aaf6"
      },
      "execution_count": null,
      "outputs": [
        {
          "output_type": "display_data",
          "data": {
            "text/html": [
              "<style>\n",
              ".dl-inline {width: auto; margin:0; padding: 0}\n",
              ".dl-inline>dt, .dl-inline>dd {float: none; width: auto; display: inline-block}\n",
              ".dl-inline>dt::after {content: \":\\0020\"; padding-right: .5ex}\n",
              ".dl-inline>dt:not(:first-of-type) {padding-left: .5ex}\n",
              "</style><dl class=dl-inline><dt>0%</dt><dd>56</dd><dt>25%</dt><dd>72</dd><dt>50%</dt><dd>79</dd><dt>75%</dt><dd>85</dd><dt>100%</dt><dd>97</dd></dl>\n"
            ],
            "text/markdown": "0%\n:   5625%\n:   7250%\n:   7975%\n:   85100%\n:   97\n\n",
            "text/latex": "\\begin{description*}\n\\item[0\\textbackslash{}\\%] 56\n\\item[25\\textbackslash{}\\%] 72\n\\item[50\\textbackslash{}\\%] 79\n\\item[75\\textbackslash{}\\%] 85\n\\item[100\\textbackslash{}\\%] 97\n\\end{description*}\n",
            "text/plain": [
              "  0%  25%  50%  75% 100% \n",
              "  56   72   79   85   97 "
            ]
          },
          "metadata": {}
        }
      ]
    },
    {
      "cell_type": "code",
      "source": [
        "quantile(OZ, na.rm = TRUE)"
      ],
      "metadata": {
        "colab": {
          "base_uri": "https://localhost:8080/",
          "height": 34
        },
        "id": "KMckNRHmpNNF",
        "outputId": "42c446f0-de6f-436b-886e-101edf31a805"
      },
      "execution_count": null,
      "outputs": [
        {
          "output_type": "display_data",
          "data": {
            "text/html": [
              "<style>\n",
              ".dl-inline {width: auto; margin:0; padding: 0}\n",
              ".dl-inline>dt, .dl-inline>dd {float: none; width: auto; display: inline-block}\n",
              ".dl-inline>dt::after {content: \":\\0020\"; padding-right: .5ex}\n",
              ".dl-inline>dt:not(:first-of-type) {padding-left: .5ex}\n",
              "</style><dl class=dl-inline><dt>0%</dt><dd>1</dd><dt>25%</dt><dd>18</dd><dt>50%</dt><dd>31.5</dd><dt>75%</dt><dd>63.25</dd><dt>100%</dt><dd>168</dd></dl>\n"
            ],
            "text/markdown": "0%\n:   125%\n:   1850%\n:   31.575%\n:   63.25100%\n:   168\n\n",
            "text/latex": "\\begin{description*}\n\\item[0\\textbackslash{}\\%] 1\n\\item[25\\textbackslash{}\\%] 18\n\\item[50\\textbackslash{}\\%] 31.5\n\\item[75\\textbackslash{}\\%] 63.25\n\\item[100\\textbackslash{}\\%] 168\n\\end{description*}\n",
            "text/plain": [
              "    0%    25%    50%    75%   100% \n",
              "  1.00  18.00  31.50  63.25 168.00 "
            ]
          },
          "metadata": {}
        }
      ]
    },
    {
      "cell_type": "markdown",
      "source": [
        "2. Data Visualization"
      ],
      "metadata": {
        "id": "FG2j4tp3pncM"
      }
    },
    {
      "cell_type": "code",
      "source": [
        "str(mydata)"
      ],
      "metadata": {
        "colab": {
          "base_uri": "https://localhost:8080/"
        },
        "id": "4NxhgUv1pwVv",
        "outputId": "b5a710ad-8012-4990-91df-52d84d58cfc1"
      },
      "execution_count": null,
      "outputs": [
        {
          "output_type": "stream",
          "name": "stdout",
          "text": [
            "'data.frame':\t153 obs. of  6 variables:\n",
            " $ Ozone  : int  41 36 12 18 NA 28 23 19 8 NA ...\n",
            " $ Solar.R: int  190 118 149 313 NA NA 299 99 19 194 ...\n",
            " $ Wind   : num  7.4 8 12.6 11.5 14.3 14.9 8.6 13.8 20.1 8.6 ...\n",
            " $ Temp   : int  67 72 74 62 56 66 65 59 61 69 ...\n",
            " $ Month  : int  5 5 5 5 5 5 5 5 5 5 ...\n",
            " $ Day    : int  1 2 3 4 5 6 7 8 9 10 ...\n"
          ]
        }
      ]
    },
    {
      "cell_type": "markdown",
      "source": [
        "Histogram"
      ],
      "metadata": {
        "id": "FhgQ1BN5xyeO"
      }
    },
    {
      "cell_type": "code",
      "source": [
        "hist(WI)"
      ],
      "metadata": {
        "colab": {
          "base_uri": "https://localhost:8080/",
          "height": 437
        },
        "id": "A5WN-4Msx4Lm",
        "outputId": "51152117-29e0-4ad1-d0bf-e4c6f3b19631"
      },
      "execution_count": null,
      "outputs": [
        {
          "output_type": "display_data",
          "data": {
            "text/plain": [
              "Plot with title “Histogram of WI”"
            ],
            "image/png": "[encoded data removed]"
          },
          "metadata": {
            "image/png": {
              "width": 420,
              "height": 420
            }
          }
        }
      ]
    },
    {
      "cell_type": "code",
      "source": [
        "hist(Temp)"
      ],
      "metadata": {
        "colab": {
          "base_uri": "https://localhost:8080/",
          "height": 437
        },
        "id": "wFnkk403yAEA",
        "outputId": "fd977254-a14b-4efb-a438-ef0af58daa71"
      },
      "execution_count": null,
      "outputs": [
        {
          "output_type": "display_data",
          "data": {
            "text/plain": [
              "Plot with title “Histogram of Temp”"
            ],
            "image/png": "[encoded data removed]"
          },
          "metadata": {
            "image/png": {
              "width": 420,
              "height": 420
            }
          }
        }
      ]
    },
    {
      "cell_type": "code",
      "source": [
        "hist(OZ)"
      ],
      "metadata": {
        "colab": {
          "base_uri": "https://localhost:8080/",
          "height": 437
        },
        "id": "SXS2OvKSyFKy",
        "outputId": "5f3e4ac1-f5f4-4556-d48c-4b2fe99b3d96"
      },
      "execution_count": null,
      "outputs": [
        {
          "output_type": "display_data",
          "data": {
            "text/plain": [
              "Plot with title “Histogram of OZ”"
            ],
            "image/png": "[encoded data removed]"
          },
          "metadata": {
            "image/png": {
              "width": 420,
              "height": 420
            }
          }
        }
      ]
    },
    {
      "cell_type": "code",
      "source": [
        "#barplot(data,\n",
        "#main=\"main title of graph\"\n",
        "#xlab=\"xlabel\",\n",
        "#ylab=\"ylabel\",\n",
        "#col=\"bar color\",\n",
        "#border=\"border color of bar\")\n",
        "\n",
        "\n",
        "barplot(airquality$Wind,\n",
        "main=\"airquality Wind flow bar plot\",\n",
        "xlab=\"ozone\",\n",
        "ylab=\"count\",\n",
        "col=\"green\",\n",
        "border= \"black\")"
      ],
      "metadata": {
        "colab": {
          "base_uri": "https://localhost:8080/",
          "height": 437
        },
        "id": "fnisq9dE1uZP",
        "outputId": "08740270-71bb-4bba-aa5b-e0d80dd3bee9"
      },
      "execution_count": null,
      "outputs": [
        {
          "output_type": "display_data",
          "data": {
            "text/plain": [
              "Plot with title “airquality Wind flow bar plot”"
            ],
            "image/png": "[encoded data removed]"
          },
          "metadata": {
            "image/png": {
              "width": 420,
              "height": 420
            }
          }
        }
      ]
    },
    {
      "cell_type": "code",
      "source": [
        "barplot(airquality$Temp,\n",
        "main=\"airquality Temparature bar plot\",\n",
        "xlab=\"temp\",\n",
        "ylab=\"count\",\n",
        "col=\"orange\",\n",
        "border= \"black\")"
      ],
      "metadata": {
        "colab": {
          "base_uri": "https://localhost:8080/",
          "height": 437
        },
        "id": "lCWdiEft3iFm",
        "outputId": "9e20b442-85ef-406b-fb4e-7c70facdf0e1"
      },
      "execution_count": null,
      "outputs": [
        {
          "output_type": "display_data",
          "data": {
            "text/plain": [
              "Plot with title “airquality Temparature bar plot”"
            ],
            "image/png": "[encoded data removed]"
          },
          "metadata": {
            "image/png": {
              "width": 420,
              "height": 420
            }
          }
        }
      ]
    },
    {
      "cell_type": "code",
      "source": [
        "barplot(airquality$Ozone,\n",
        "main=\"airquality Ozone concentration bar plot\",\n",
        "xlab=\"ozone\",\n",
        "ylab=\"count\",\n",
        "col=\"blue\",\n",
        "border= \"black\")"
      ],
      "metadata": {
        "colab": {
          "base_uri": "https://localhost:8080/",
          "height": 437
        },
        "id": "vF5yt-Zc32_a",
        "outputId": "2fc251f3-ae29-427f-cca8-1af809557933"
      },
      "execution_count": null,
      "outputs": [
        {
          "output_type": "display_data",
          "data": {
            "text/plain": [
              "Plot with title “airquality Ozone concentration bar plot”"
            ],
            "image/png": "[encoded data removed]"
          },
          "metadata": {
            "image/png": {
              "width": 420,
              "height": 420
            }
          }
        }
      ]
    },
    {
      "cell_type": "markdown",
      "source": [
        "3. Data Normalization"
      ],
      "metadata": {
        "id": "COTzuiw64fgI"
      }
    },
    {
      "cell_type": "code",
      "source": [
        "str(mydata)"
      ],
      "metadata": {
        "colab": {
          "base_uri": "https://localhost:8080/"
        },
        "id": "SnQjjWoe4kA4",
        "outputId": "b1506f77-5ba2-4324-b3dd-2609802d36d5"
      },
      "execution_count": null,
      "outputs": [
        {
          "output_type": "stream",
          "name": "stdout",
          "text": [
            "'data.frame':\t153 obs. of  6 variables:\n",
            " $ Ozone  : int  41 36 12 18 NA 28 23 19 8 NA ...\n",
            " $ Solar.R: int  190 118 149 313 NA NA 299 99 19 194 ...\n",
            " $ Wind   : num  7.4 8 12.6 11.5 14.3 14.9 8.6 13.8 20.1 8.6 ...\n",
            " $ Temp   : int  67 72 74 62 56 66 65 59 61 69 ...\n",
            " $ Month  : int  5 5 5 5 5 5 5 5 5 5 ...\n",
            " $ Day    : int  1 2 3 4 5 6 7 8 9 10 ...\n"
          ]
        }
      ]
    },
    {
      "cell_type": "code",
      "source": [
        "mydata_numeric = select(mydata, c(1,2,3,4,5,6))"
      ],
      "metadata": {
        "id": "tsbT8Eql5Avx"
      },
      "execution_count": null,
      "outputs": []
    },
    {
      "cell_type": "markdown",
      "source": [
        "Normalize Dataset (Z-scores) - all variables on the same scale"
      ],
      "metadata": {
        "id": "HMqEn1Sz83ES"
      }
    },
    {
      "cell_type": "code",
      "source": [
        "Zscore_mydata = scale(mydata_numeric)"
      ],
      "metadata": {
        "id": "JHv0f_i19JlC"
      },
      "execution_count": null,
      "outputs": []
    },
    {
      "cell_type": "code",
      "source": [
        "View(Zscore_mydata)"
      ],
      "metadata": {
        "colab": {
          "base_uri": "https://localhost:8080/",
          "height": 1000
        },
        "id": "U6Vf9RQN9hU5",
        "outputId": "80336e68-1847-4d2b-a143-fbee39386539"
      },
      "execution_count": null,
      "outputs": [
        {
          "output_type": "display_data",
          "data": {
            "text/plain": [
              "      Ozone       Solar.R     Wind        Temp        Month     Day        \n",
              " [1,] -0.03423409  0.04517615 -0.72594816 -1.1497140  -1.407294 -1.67001947\n",
              " [2,] -0.18580489 -0.75430487 -0.55563883 -0.6214670  -1.407294 -1.55721020\n",
              " [3,] -0.91334473 -0.41008388  0.75006604 -0.4101682  -1.407294 -1.44440094\n",
              " [4,] -0.73145977  1.41095624  0.43783226 -1.6779609  -1.407294 -1.33159168\n",
              " [5,]          NA          NA  1.23260914 -2.3118573  -1.407294 -1.21878242\n",
              " [6,] -0.42831817          NA  1.40291847 -1.2553634  -1.407294 -1.10597316\n",
              " [7,] -0.57988897  1.25550160 -0.38532950 -1.3610128  -1.407294 -0.99316389\n",
              " [8,] -0.70114561 -0.96527903  1.09068470 -1.9949091  -1.407294 -0.88035463\n",
              " [9,] -1.03460136 -1.85359129  2.87893266 -1.7836103  -1.407294 -0.76754537\n",
              "[10,]          NA  0.08959177 -0.38532950 -0.9384152  -1.407294 -0.65473611\n",
              "[11,] -1.06491552          NA -0.86787260 -0.4101682  -1.407294 -0.54192685\n",
              "[12,] -0.79208809  0.77803376 -0.07309573 -0.9384152  -1.407294 -0.42911758\n",
              "[13,] -0.94365889  1.15556647 -0.21502017 -1.2553634  -1.407294 -0.31630832\n",
              "[14,] -0.85271641  0.97790402  0.26752293 -1.0440646  -1.407294 -0.20349906\n",
              "[15,] -0.73145977 -1.34281174  0.92037537 -2.1005585  -1.407294 -0.09068980\n",
              "[16,] -0.85271641  1.64413821  0.43783226 -1.4666622  -1.407294  0.02211946\n",
              "[17,] -0.24643321  1.34433282  0.57975671 -1.2553634  -1.407294  0.13492873\n",
              "[18,] -1.09522968 -1.19846100  2.39638956 -2.2062079  -1.407294  0.24773799\n",
              "[19,] -0.36768985  1.51089137  0.43783226 -1.0440646  -1.407294  0.36054725\n",
              "[20,] -0.94365889 -1.57599371 -0.07309573 -1.6779609  -1.407294  0.47335651\n",
              "[21,] -1.24680048 -1.97573422 -0.07309573 -1.9949091  -1.407294  0.58616577\n",
              "[22,] -0.94365889  1.48868357  1.88546157 -0.5158176  -1.407294  0.69897503\n",
              "[23,] -1.15585800 -1.78696787 -0.07309573 -1.7836103  -1.407294  0.81178430\n",
              "[24,] -0.30706153 -1.04300636  0.57975671 -1.7836103  -1.407294  0.92459356\n",
              "[25,]          NA -1.33170784  1.88546157 -2.2062079  -1.407294  1.03740282\n",
              "[26,]          NA  0.88907279  1.40291847 -2.1005585  -1.407294  1.15021208\n",
              "[27,]          NA          NA -0.55563883 -2.2062079  -1.407294  1.26302134\n",
              "[28,] -0.57988897 -1.92021471  0.57975671 -1.1497140  -1.407294  1.37583061\n",
              "[29,]  0.08702254  0.73361815  1.40291847  0.3293775  -1.407294  1.48863987\n",
              "[30,]  2.20901373  0.41160496 -1.20849126  0.1180787  -1.407294  1.60144913\n",
              "[31,] ⋮           ⋮           ⋮           ⋮           ⋮         ⋮          \n",
              "[32,]  1.63304469 -0.21021362 -0.86787260  1.38587145 1.416522  -1.67001947\n",
              "[33,]  1.08738982  0.12290348 -1.37880059  1.49152084 1.416522  -1.55721020\n",
              "[34,]  0.93581902 -0.03255117 -2.03165302  1.59717023 1.416522  -1.44440094\n",
              "[35,]  1.48147389  0.03407225 -1.52072503  1.59717023 1.416522  -1.33159168\n",
              "[36,]  0.14765086 -1.00969465 -0.72594816  0.96327387 1.416522  -1.21878242\n",
              "[37,] -0.30706153 -1.04300636  1.57322780  0.64632570 1.416522  -1.10597316\n",
              "[38,] -0.67083145  0.73361815  0.26752293  0.22372813 1.416522  -0.99316389\n",
              "[39,] -0.57988897  0.37829325  0.09721360  0.01242934 1.416522  -0.88035463\n",
              "[40,] -0.64051729  0.48933228  0.26752293 -0.30451884 1.416522  -0.76754537\n",
              "[41,] -0.54957481  0.81134547 -0.07309573 -0.51581762 1.416522  -0.65473611\n",
              "[42,]  0.05670838  0.55595570  1.40291847  0.32937752 1.416522  -0.54192685\n",
              "[43,] -0.64051729  0.81134547  1.57322780 -0.19886945 1.416522  -0.42911758\n",
              "[44,] -0.42831817  0.57816351 -1.03818193 -0.09322005 1.416522  -0.31630832\n",
              "[45,] -1.00428721 -1.79807177  0.26752293 -0.72711641 1.416522  -0.20349906\n",
              "[46,] -0.88303057 -0.82092829  0.43783226 -0.72711641 1.416522  -0.09068980\n",
              "[47,]  0.11733670  0.56705960 -0.86787260  0.01242934 1.416522   0.02211946\n",
              "[48,] -0.73145977  0.42270886  1.09068470 -1.14971398 1.416522   0.13492873\n",
              "[49,] -0.88303057 -1.76476006  0.09721360 -0.19886945 1.416522   0.24773799\n",
              "[50,] -0.54957481  0.57816351  0.09721360 -1.04406459 1.416522   0.36054725\n",
              "[51,] -0.79208809  0.16731909 -0.55563883  0.43502691 1.416522   0.47335651\n",
              "[52,] -0.88303057  0.57816351  0.75006604 -1.46666216 1.416522   0.58616577\n",
              "[53,] -0.57988897 -1.90911080 -0.21502017 -0.72711641 1.416522   0.69897503\n",
              "[54,] -0.18580489 -0.52112291  0.09721360  0.32937752 1.416522   0.81178430\n",
              "[55,] -1.06491552 -1.52047419  0.09721360 -0.93841519 1.416522   0.92459356\n",
              "[56,] -0.85271641 -1.84248738  1.88546157 -1.57231155 1.416522   1.03740282\n",
              "[57,] -0.36768985  0.07848786 -0.86787260 -0.83276580 1.416522   1.15021208\n",
              "[58,]          NA -0.45449949  0.92037537 -0.09322005 1.416522   1.26302134\n",
              "[59,] -0.85271641  0.05628006  1.23260914 -0.30451884 1.416522   1.37583061\n",
              "[60,] -0.73145977 -0.60995413 -0.55563883 -0.19886945 1.416522   1.48863987\n",
              "[61,] -0.67083145  0.41160496  0.43783226 -1.04406459 1.416522   1.60144913"
            ],
            "text/html": [
              "<table class=\"dataframe\">\n",
              "<caption>A matrix: 153 × 6 of type dbl</caption>\n",
              "<thead>\n",
              "\t<tr><th scope=col>Ozone</th><th scope=col>Solar.R</th><th scope=col>Wind</th><th scope=col>Temp</th><th scope=col>Month</th><th scope=col>Day</th></tr>\n",
              "</thead>\n",
              "<tbody>\n",
              "\t<tr><td>-0.03423409</td><td> 0.04517615</td><td>-0.72594816</td><td>-1.1497140</td><td>-1.407294</td><td>-1.67001947</td></tr>\n",
              "\t<tr><td>-0.18580489</td><td>-0.75430487</td><td>-0.55563883</td><td>-0.6214670</td><td>-1.407294</td><td>-1.55721020</td></tr>\n",
              "\t<tr><td>-0.91334473</td><td>-0.41008388</td><td> 0.75006604</td><td>-0.4101682</td><td>-1.407294</td><td>-1.44440094</td></tr>\n",
              "\t<tr><td>-0.73145977</td><td> 1.41095624</td><td> 0.43783226</td><td>-1.6779609</td><td>-1.407294</td><td>-1.33159168</td></tr>\n",
              "\t<tr><td>         NA</td><td>         NA</td><td> 1.23260914</td><td>-2.3118573</td><td>-1.407294</td><td>-1.21878242</td></tr>\n",
              "\t<tr><td>-0.42831817</td><td>         NA</td><td> 1.40291847</td><td>-1.2553634</td><td>-1.407294</td><td>-1.10597316</td></tr>\n",
              "\t<tr><td>-0.57988897</td><td> 1.25550160</td><td>-0.38532950</td><td>-1.3610128</td><td>-1.407294</td><td>-0.99316389</td></tr>\n",
              "\t<tr><td>-0.70114561</td><td>-0.96527903</td><td> 1.09068470</td><td>-1.9949091</td><td>-1.407294</td><td>-0.88035463</td></tr>\n",
              "\t<tr><td>-1.03460136</td><td>-1.85359129</td><td> 2.87893266</td><td>-1.7836103</td><td>-1.407294</td><td>-0.76754537</td></tr>\n",
              "\t<tr><td>         NA</td><td> 0.08959177</td><td>-0.38532950</td><td>-0.9384152</td><td>-1.407294</td><td>-0.65473611</td></tr>\n",
              "\t<tr><td>-1.06491552</td><td>         NA</td><td>-0.86787260</td><td>-0.4101682</td><td>-1.407294</td><td>-0.54192685</td></tr>\n",
              "\t<tr><td>-0.79208809</td><td> 0.77803376</td><td>-0.07309573</td><td>-0.9384152</td><td>-1.407294</td><td>-0.42911758</td></tr>\n",
              "\t<tr><td>-0.94365889</td><td> 1.15556647</td><td>-0.21502017</td><td>-1.2553634</td><td>-1.407294</td><td>-0.31630832</td></tr>\n",
              "\t<tr><td>-0.85271641</td><td> 0.97790402</td><td> 0.26752293</td><td>-1.0440646</td><td>-1.407294</td><td>-0.20349906</td></tr>\n",
              "\t<tr><td>-0.73145977</td><td>-1.34281174</td><td> 0.92037537</td><td>-2.1005585</td><td>-1.407294</td><td>-0.09068980</td></tr>\n",
              "\t<tr><td>-0.85271641</td><td> 1.64413821</td><td> 0.43783226</td><td>-1.4666622</td><td>-1.407294</td><td> 0.02211946</td></tr>\n",
              "\t<tr><td>-0.24643321</td><td> 1.34433282</td><td> 0.57975671</td><td>-1.2553634</td><td>-1.407294</td><td> 0.13492873</td></tr>\n",
              "\t<tr><td>-1.09522968</td><td>-1.19846100</td><td> 2.39638956</td><td>-2.2062079</td><td>-1.407294</td><td> 0.24773799</td></tr>\n",
              "\t<tr><td>-0.36768985</td><td> 1.51089137</td><td> 0.43783226</td><td>-1.0440646</td><td>-1.407294</td><td> 0.36054725</td></tr>\n",
              "\t<tr><td>-0.94365889</td><td>-1.57599371</td><td>-0.07309573</td><td>-1.6779609</td><td>-1.407294</td><td> 0.47335651</td></tr>\n",
              "\t<tr><td>-1.24680048</td><td>-1.97573422</td><td>-0.07309573</td><td>-1.9949091</td><td>-1.407294</td><td> 0.58616577</td></tr>\n",
              "\t<tr><td>-0.94365889</td><td> 1.48868357</td><td> 1.88546157</td><td>-0.5158176</td><td>-1.407294</td><td> 0.69897503</td></tr>\n",
              "\t<tr><td>-1.15585800</td><td>-1.78696787</td><td>-0.07309573</td><td>-1.7836103</td><td>-1.407294</td><td> 0.81178430</td></tr>\n",
              "\t<tr><td>-0.30706153</td><td>-1.04300636</td><td> 0.57975671</td><td>-1.7836103</td><td>-1.407294</td><td> 0.92459356</td></tr>\n",
              "\t<tr><td>         NA</td><td>-1.33170784</td><td> 1.88546157</td><td>-2.2062079</td><td>-1.407294</td><td> 1.03740282</td></tr>\n",
              "\t<tr><td>         NA</td><td> 0.88907279</td><td> 1.40291847</td><td>-2.1005585</td><td>-1.407294</td><td> 1.15021208</td></tr>\n",
              "\t<tr><td>         NA</td><td>         NA</td><td>-0.55563883</td><td>-2.2062079</td><td>-1.407294</td><td> 1.26302134</td></tr>\n",
              "\t<tr><td>-0.57988897</td><td>-1.92021471</td><td> 0.57975671</td><td>-1.1497140</td><td>-1.407294</td><td> 1.37583061</td></tr>\n",
              "\t<tr><td> 0.08702254</td><td> 0.73361815</td><td> 1.40291847</td><td> 0.3293775</td><td>-1.407294</td><td> 1.48863987</td></tr>\n",
              "\t<tr><td> 2.20901373</td><td> 0.41160496</td><td>-1.20849126</td><td> 0.1180787</td><td>-1.407294</td><td> 1.60144913</td></tr>\n",
              "\t<tr><td>⋮</td><td>⋮</td><td>⋮</td><td>⋮</td><td>⋮</td><td>⋮</td></tr>\n",
              "\t<tr><td> 1.63304469</td><td>-0.21021362</td><td>-0.86787260</td><td> 1.38587145</td><td>1.416522</td><td>-1.67001947</td></tr>\n",
              "\t<tr><td> 1.08738982</td><td> 0.12290348</td><td>-1.37880059</td><td> 1.49152084</td><td>1.416522</td><td>-1.55721020</td></tr>\n",
              "\t<tr><td> 0.93581902</td><td>-0.03255117</td><td>-2.03165302</td><td> 1.59717023</td><td>1.416522</td><td>-1.44440094</td></tr>\n",
              "\t<tr><td> 1.48147389</td><td> 0.03407225</td><td>-1.52072503</td><td> 1.59717023</td><td>1.416522</td><td>-1.33159168</td></tr>\n",
              "\t<tr><td> 0.14765086</td><td>-1.00969465</td><td>-0.72594816</td><td> 0.96327387</td><td>1.416522</td><td>-1.21878242</td></tr>\n",
              "\t<tr><td>-0.30706153</td><td>-1.04300636</td><td> 1.57322780</td><td> 0.64632570</td><td>1.416522</td><td>-1.10597316</td></tr>\n",
              "\t<tr><td>-0.67083145</td><td> 0.73361815</td><td> 0.26752293</td><td> 0.22372813</td><td>1.416522</td><td>-0.99316389</td></tr>\n",
              "\t<tr><td>-0.57988897</td><td> 0.37829325</td><td> 0.09721360</td><td> 0.01242934</td><td>1.416522</td><td>-0.88035463</td></tr>\n",
              "\t<tr><td>-0.64051729</td><td> 0.48933228</td><td> 0.26752293</td><td>-0.30451884</td><td>1.416522</td><td>-0.76754537</td></tr>\n",
              "\t<tr><td>-0.54957481</td><td> 0.81134547</td><td>-0.07309573</td><td>-0.51581762</td><td>1.416522</td><td>-0.65473611</td></tr>\n",
              "\t<tr><td> 0.05670838</td><td> 0.55595570</td><td> 1.40291847</td><td> 0.32937752</td><td>1.416522</td><td>-0.54192685</td></tr>\n",
              "\t<tr><td>-0.64051729</td><td> 0.81134547</td><td> 1.57322780</td><td>-0.19886945</td><td>1.416522</td><td>-0.42911758</td></tr>\n",
              "\t<tr><td>-0.42831817</td><td> 0.57816351</td><td>-1.03818193</td><td>-0.09322005</td><td>1.416522</td><td>-0.31630832</td></tr>\n",
              "\t<tr><td>-1.00428721</td><td>-1.79807177</td><td> 0.26752293</td><td>-0.72711641</td><td>1.416522</td><td>-0.20349906</td></tr>\n",
              "\t<tr><td>-0.88303057</td><td>-0.82092829</td><td> 0.43783226</td><td>-0.72711641</td><td>1.416522</td><td>-0.09068980</td></tr>\n",
              "\t<tr><td> 0.11733670</td><td> 0.56705960</td><td>-0.86787260</td><td> 0.01242934</td><td>1.416522</td><td> 0.02211946</td></tr>\n",
              "\t<tr><td>-0.73145977</td><td> 0.42270886</td><td> 1.09068470</td><td>-1.14971398</td><td>1.416522</td><td> 0.13492873</td></tr>\n",
              "\t<tr><td>-0.88303057</td><td>-1.76476006</td><td> 0.09721360</td><td>-0.19886945</td><td>1.416522</td><td> 0.24773799</td></tr>\n",
              "\t<tr><td>-0.54957481</td><td> 0.57816351</td><td> 0.09721360</td><td>-1.04406459</td><td>1.416522</td><td> 0.36054725</td></tr>\n",
              "\t<tr><td>-0.79208809</td><td> 0.16731909</td><td>-0.55563883</td><td> 0.43502691</td><td>1.416522</td><td> 0.47335651</td></tr>\n",
              "\t<tr><td>-0.88303057</td><td> 0.57816351</td><td> 0.75006604</td><td>-1.46666216</td><td>1.416522</td><td> 0.58616577</td></tr>\n",
              "\t<tr><td>-0.57988897</td><td>-1.90911080</td><td>-0.21502017</td><td>-0.72711641</td><td>1.416522</td><td> 0.69897503</td></tr>\n",
              "\t<tr><td>-0.18580489</td><td>-0.52112291</td><td> 0.09721360</td><td> 0.32937752</td><td>1.416522</td><td> 0.81178430</td></tr>\n",
              "\t<tr><td>-1.06491552</td><td>-1.52047419</td><td> 0.09721360</td><td>-0.93841519</td><td>1.416522</td><td> 0.92459356</td></tr>\n",
              "\t<tr><td>-0.85271641</td><td>-1.84248738</td><td> 1.88546157</td><td>-1.57231155</td><td>1.416522</td><td> 1.03740282</td></tr>\n",
              "\t<tr><td>-0.36768985</td><td> 0.07848786</td><td>-0.86787260</td><td>-0.83276580</td><td>1.416522</td><td> 1.15021208</td></tr>\n",
              "\t<tr><td>         NA</td><td>-0.45449949</td><td> 0.92037537</td><td>-0.09322005</td><td>1.416522</td><td> 1.26302134</td></tr>\n",
              "\t<tr><td>-0.85271641</td><td> 0.05628006</td><td> 1.23260914</td><td>-0.30451884</td><td>1.416522</td><td> 1.37583061</td></tr>\n",
              "\t<tr><td>-0.73145977</td><td>-0.60995413</td><td>-0.55563883</td><td>-0.19886945</td><td>1.416522</td><td> 1.48863987</td></tr>\n",
              "\t<tr><td>-0.67083145</td><td> 0.41160496</td><td> 0.43783226</td><td>-1.04406459</td><td>1.416522</td><td> 1.60144913</td></tr>\n",
              "</tbody>\n",
              "</table>\n"
            ],
            "text/markdown": "\nA matrix: 153 × 6 of type dbl\n\n| Ozone | Solar.R | Wind | Temp | Month | Day |\n|---|---|---|---|---|---|\n| -0.03423409 |  0.04517615 | -0.72594816 | -1.1497140 | -1.407294 | -1.67001947 |\n| -0.18580489 | -0.75430487 | -0.55563883 | -0.6214670 | -1.407294 | -1.55721020 |\n| -0.91334473 | -0.41008388 |  0.75006604 | -0.4101682 | -1.407294 | -1.44440094 |\n| -0.73145977 |  1.41095624 |  0.43783226 | -1.6779609 | -1.407294 | -1.33159168 |\n|          NA |          NA |  1.23260914 | -2.3118573 | -1.407294 | -1.21878242 |\n| -0.42831817 |          NA |  1.40291847 | -1.2553634 | -1.407294 | -1.10597316 |\n| -0.57988897 |  1.25550160 | -0.38532950 | -1.3610128 | -1.407294 | -0.99316389 |\n| -0.70114561 | -0.96527903 |  1.09068470 | -1.9949091 | -1.407294 | -0.88035463 |\n| -1.03460136 | -1.85359129 |  2.87893266 | -1.7836103 | -1.407294 | -0.76754537 |\n|          NA |  0.08959177 | -0.38532950 | -0.9384152 | -1.407294 | -0.65473611 |\n| -1.06491552 |          NA | -0.86787260 | -0.4101682 | -1.407294 | -0.54192685 |\n| -0.79208809 |  0.77803376 | -0.07309573 | -0.9384152 | -1.407294 | -0.42911758 |\n| -0.94365889 |  1.15556647 | -0.21502017 | -1.2553634 | -1.407294 | -0.31630832 |\n| -0.85271641 |  0.97790402 |  0.26752293 | -1.0440646 | -1.407294 | -0.20349906 |\n| -0.73145977 | -1.34281174 |  0.92037537 | -2.1005585 | -1.407294 | -0.09068980 |\n| -0.85271641 |  1.64413821 |  0.43783226 | -1.4666622 | -1.407294 |  0.02211946 |\n| -0.24643321 |  1.34433282 |  0.57975671 | -1.2553634 | -1.407294 |  0.13492873 |\n| -1.09522968 | -1.19846100 |  2.39638956 | -2.2062079 | -1.407294 |  0.24773799 |\n| -0.36768985 |  1.51089137 |  0.43783226 | -1.0440646 | -1.407294 |  0.36054725 |\n| -0.94365889 | -1.57599371 | -0.07309573 | -1.6779609 | -1.407294 |  0.47335651 |\n| -1.24680048 | -1.97573422 | -0.07309573 | -1.9949091 | -1.407294 |  0.58616577 |\n| -0.94365889 |  1.48868357 |  1.88546157 | -0.5158176 | -1.407294 |  0.69897503 |\n| -1.15585800 | -1.78696787 | -0.07309573 | -1.7836103 | -1.407294 |  0.81178430 |\n| -0.30706153 | -1.04300636 |  0.57975671 | -1.7836103 | -1.407294 |  0.92459356 |\n|          NA | -1.33170784 |  1.88546157 | -2.2062079 | -1.407294 |  1.03740282 |\n|          NA |  0.88907279 |  1.40291847 | -2.1005585 | -1.407294 |  1.15021208 |\n|          NA |          NA | -0.55563883 | -2.2062079 | -1.407294 |  1.26302134 |\n| -0.57988897 | -1.92021471 |  0.57975671 | -1.1497140 | -1.407294 |  1.37583061 |\n|  0.08702254 |  0.73361815 |  1.40291847 |  0.3293775 | -1.407294 |  1.48863987 |\n|  2.20901373 |  0.41160496 | -1.20849126 |  0.1180787 | -1.407294 |  1.60144913 |\n| ⋮ | ⋮ | ⋮ | ⋮ | ⋮ | ⋮ |\n|  1.63304469 | -0.21021362 | -0.86787260 |  1.38587145 | 1.416522 | -1.67001947 |\n|  1.08738982 |  0.12290348 | -1.37880059 |  1.49152084 | 1.416522 | -1.55721020 |\n|  0.93581902 | -0.03255117 | -2.03165302 |  1.59717023 | 1.416522 | -1.44440094 |\n|  1.48147389 |  0.03407225 | -1.52072503 |  1.59717023 | 1.416522 | -1.33159168 |\n|  0.14765086 | -1.00969465 | -0.72594816 |  0.96327387 | 1.416522 | -1.21878242 |\n| -0.30706153 | -1.04300636 |  1.57322780 |  0.64632570 | 1.416522 | -1.10597316 |\n| -0.67083145 |  0.73361815 |  0.26752293 |  0.22372813 | 1.416522 | -0.99316389 |\n| -0.57988897 |  0.37829325 |  0.09721360 |  0.01242934 | 1.416522 | -0.88035463 |\n| -0.64051729 |  0.48933228 |  0.26752293 | -0.30451884 | 1.416522 | -0.76754537 |\n| -0.54957481 |  0.81134547 | -0.07309573 | -0.51581762 | 1.416522 | -0.65473611 |\n|  0.05670838 |  0.55595570 |  1.40291847 |  0.32937752 | 1.416522 | -0.54192685 |\n| -0.64051729 |  0.81134547 |  1.57322780 | -0.19886945 | 1.416522 | -0.42911758 |\n| -0.42831817 |  0.57816351 | -1.03818193 | -0.09322005 | 1.416522 | -0.31630832 |\n| -1.00428721 | -1.79807177 |  0.26752293 | -0.72711641 | 1.416522 | -0.20349906 |\n| -0.88303057 | -0.82092829 |  0.43783226 | -0.72711641 | 1.416522 | -0.09068980 |\n|  0.11733670 |  0.56705960 | -0.86787260 |  0.01242934 | 1.416522 |  0.02211946 |\n| -0.73145977 |  0.42270886 |  1.09068470 | -1.14971398 | 1.416522 |  0.13492873 |\n| -0.88303057 | -1.76476006 |  0.09721360 | -0.19886945 | 1.416522 |  0.24773799 |\n| -0.54957481 |  0.57816351 |  0.09721360 | -1.04406459 | 1.416522 |  0.36054725 |\n| -0.79208809 |  0.16731909 | -0.55563883 |  0.43502691 | 1.416522 |  0.47335651 |\n| -0.88303057 |  0.57816351 |  0.75006604 | -1.46666216 | 1.416522 |  0.58616577 |\n| -0.57988897 | -1.90911080 | -0.21502017 | -0.72711641 | 1.416522 |  0.69897503 |\n| -0.18580489 | -0.52112291 |  0.09721360 |  0.32937752 | 1.416522 |  0.81178430 |\n| -1.06491552 | -1.52047419 |  0.09721360 | -0.93841519 | 1.416522 |  0.92459356 |\n| -0.85271641 | -1.84248738 |  1.88546157 | -1.57231155 | 1.416522 |  1.03740282 |\n| -0.36768985 |  0.07848786 | -0.86787260 | -0.83276580 | 1.416522 |  1.15021208 |\n|          NA | -0.45449949 |  0.92037537 | -0.09322005 | 1.416522 |  1.26302134 |\n| -0.85271641 |  0.05628006 |  1.23260914 | -0.30451884 | 1.416522 |  1.37583061 |\n| -0.73145977 | -0.60995413 | -0.55563883 | -0.19886945 | 1.416522 |  1.48863987 |\n| -0.67083145 |  0.41160496 |  0.43783226 | -1.04406459 | 1.416522 |  1.60144913 |\n\n",
            "text/latex": "A matrix: 153 × 6 of type dbl\n\\begin{tabular}{llllll}\n Ozone & Solar.R & Wind & Temp & Month & Day\\\\\n\\hline\n\t -0.03423409 &  0.04517615 & -0.72594816 & -1.1497140 & -1.407294 & -1.67001947\\\\\n\t -0.18580489 & -0.75430487 & -0.55563883 & -0.6214670 & -1.407294 & -1.55721020\\\\\n\t -0.91334473 & -0.41008388 &  0.75006604 & -0.4101682 & -1.407294 & -1.44440094\\\\\n\t -0.73145977 &  1.41095624 &  0.43783226 & -1.6779609 & -1.407294 & -1.33159168\\\\\n\t          NA &          NA &  1.23260914 & -2.3118573 & -1.407294 & -1.21878242\\\\\n\t -0.42831817 &          NA &  1.40291847 & -1.2553634 & -1.407294 & -1.10597316\\\\\n\t -0.57988897 &  1.25550160 & -0.38532950 & -1.3610128 & -1.407294 & -0.99316389\\\\\n\t -0.70114561 & -0.96527903 &  1.09068470 & -1.9949091 & -1.407294 & -0.88035463\\\\\n\t -1.03460136 & -1.85359129 &  2.87893266 & -1.7836103 & -1.407294 & -0.76754537\\\\\n\t          NA &  0.08959177 & -0.38532950 & -0.9384152 & -1.407294 & -0.65473611\\\\\n\t -1.06491552 &          NA & -0.86787260 & -0.4101682 & -1.407294 & -0.54192685\\\\\n\t -0.79208809 &  0.77803376 & -0.07309573 & -0.9384152 & -1.407294 & -0.42911758\\\\\n\t -0.94365889 &  1.15556647 & -0.21502017 & -1.2553634 & -1.407294 & -0.31630832\\\\\n\t -0.85271641 &  0.97790402 &  0.26752293 & -1.0440646 & -1.407294 & -0.20349906\\\\\n\t -0.73145977 & -1.34281174 &  0.92037537 & -2.1005585 & -1.407294 & -0.09068980\\\\\n\t -0.85271641 &  1.64413821 &  0.43783226 & -1.4666622 & -1.407294 &  0.02211946\\\\\n\t -0.24643321 &  1.34433282 &  0.57975671 & -1.2553634 & -1.407294 &  0.13492873\\\\\n\t -1.09522968 & -1.19846100 &  2.39638956 & -2.2062079 & -1.407294 &  0.24773799\\\\\n\t -0.36768985 &  1.51089137 &  0.43783226 & -1.0440646 & -1.407294 &  0.36054725\\\\\n\t -0.94365889 & -1.57599371 & -0.07309573 & -1.6779609 & -1.407294 &  0.47335651\\\\\n\t -1.24680048 & -1.97573422 & -0.07309573 & -1.9949091 & -1.407294 &  0.58616577\\\\\n\t -0.94365889 &  1.48868357 &  1.88546157 & -0.5158176 & -1.407294 &  0.69897503\\\\\n\t -1.15585800 & -1.78696787 & -0.07309573 & -1.7836103 & -1.407294 &  0.81178430\\\\\n\t -0.30706153 & -1.04300636 &  0.57975671 & -1.7836103 & -1.407294 &  0.92459356\\\\\n\t          NA & -1.33170784 &  1.88546157 & -2.2062079 & -1.407294 &  1.03740282\\\\\n\t          NA &  0.88907279 &  1.40291847 & -2.1005585 & -1.407294 &  1.15021208\\\\\n\t          NA &          NA & -0.55563883 & -2.2062079 & -1.407294 &  1.26302134\\\\\n\t -0.57988897 & -1.92021471 &  0.57975671 & -1.1497140 & -1.407294 &  1.37583061\\\\\n\t  0.08702254 &  0.73361815 &  1.40291847 &  0.3293775 & -1.407294 &  1.48863987\\\\\n\t  2.20901373 &  0.41160496 & -1.20849126 &  0.1180787 & -1.407294 &  1.60144913\\\\\n\t ⋮ & ⋮ & ⋮ & ⋮ & ⋮ & ⋮\\\\\n\t  1.63304469 & -0.21021362 & -0.86787260 &  1.38587145 & 1.416522 & -1.67001947\\\\\n\t  1.08738982 &  0.12290348 & -1.37880059 &  1.49152084 & 1.416522 & -1.55721020\\\\\n\t  0.93581902 & -0.03255117 & -2.03165302 &  1.59717023 & 1.416522 & -1.44440094\\\\\n\t  1.48147389 &  0.03407225 & -1.52072503 &  1.59717023 & 1.416522 & -1.33159168\\\\\n\t  0.14765086 & -1.00969465 & -0.72594816 &  0.96327387 & 1.416522 & -1.21878242\\\\\n\t -0.30706153 & -1.04300636 &  1.57322780 &  0.64632570 & 1.416522 & -1.10597316\\\\\n\t -0.67083145 &  0.73361815 &  0.26752293 &  0.22372813 & 1.416522 & -0.99316389\\\\\n\t -0.57988897 &  0.37829325 &  0.09721360 &  0.01242934 & 1.416522 & -0.88035463\\\\\n\t -0.64051729 &  0.48933228 &  0.26752293 & -0.30451884 & 1.416522 & -0.76754537\\\\\n\t -0.54957481 &  0.81134547 & -0.07309573 & -0.51581762 & 1.416522 & -0.65473611\\\\\n\t  0.05670838 &  0.55595570 &  1.40291847 &  0.32937752 & 1.416522 & -0.54192685\\\\\n\t -0.64051729 &  0.81134547 &  1.57322780 & -0.19886945 & 1.416522 & -0.42911758\\\\\n\t -0.42831817 &  0.57816351 & -1.03818193 & -0.09322005 & 1.416522 & -0.31630832\\\\\n\t -1.00428721 & -1.79807177 &  0.26752293 & -0.72711641 & 1.416522 & -0.20349906\\\\\n\t -0.88303057 & -0.82092829 &  0.43783226 & -0.72711641 & 1.416522 & -0.09068980\\\\\n\t  0.11733670 &  0.56705960 & -0.86787260 &  0.01242934 & 1.416522 &  0.02211946\\\\\n\t -0.73145977 &  0.42270886 &  1.09068470 & -1.14971398 & 1.416522 &  0.13492873\\\\\n\t -0.88303057 & -1.76476006 &  0.09721360 & -0.19886945 & 1.416522 &  0.24773799\\\\\n\t -0.54957481 &  0.57816351 &  0.09721360 & -1.04406459 & 1.416522 &  0.36054725\\\\\n\t -0.79208809 &  0.16731909 & -0.55563883 &  0.43502691 & 1.416522 &  0.47335651\\\\\n\t -0.88303057 &  0.57816351 &  0.75006604 & -1.46666216 & 1.416522 &  0.58616577\\\\\n\t -0.57988897 & -1.90911080 & -0.21502017 & -0.72711641 & 1.416522 &  0.69897503\\\\\n\t -0.18580489 & -0.52112291 &  0.09721360 &  0.32937752 & 1.416522 &  0.81178430\\\\\n\t -1.06491552 & -1.52047419 &  0.09721360 & -0.93841519 & 1.416522 &  0.92459356\\\\\n\t -0.85271641 & -1.84248738 &  1.88546157 & -1.57231155 & 1.416522 &  1.03740282\\\\\n\t -0.36768985 &  0.07848786 & -0.86787260 & -0.83276580 & 1.416522 &  1.15021208\\\\\n\t          NA & -0.45449949 &  0.92037537 & -0.09322005 & 1.416522 &  1.26302134\\\\\n\t -0.85271641 &  0.05628006 &  1.23260914 & -0.30451884 & 1.416522 &  1.37583061\\\\\n\t -0.73145977 & -0.60995413 & -0.55563883 & -0.19886945 & 1.416522 &  1.48863987\\\\\n\t -0.67083145 &  0.41160496 &  0.43783226 & -1.04406459 & 1.416522 &  1.60144913\\\\\n\\end{tabular}\n"
          },
          "metadata": {}
        }
      ]
    }
  ]
}